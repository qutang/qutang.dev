{
 "cells": [
  {
   "cell_type": "markdown",
   "metadata": {},
   "source": [
    "$\\lambda$-calculus is known as the world's tiniest universal programming language that adopts the functional programming paradigm.\n",
    "\n",
    "When I first learned its concepts, I was frustrated a lot about its confusing formation and variable substitutions. And I felt it was hard to understand _intuitively_ the fundamental functions defined in the language.\n",
    "\n",
    "After some effort, I realized this language shared the same spirit with many other languages (in fact, this one is the foundation) that support functional programming paradigm, such as Python. It took only a subset concepts from the more complete languages, yet ensured the language was still Turing complete.\n",
    "\n",
    "Let's quickly review the basic concepts of $\\lambda$-calculus."
   ]
  },
  {
   "cell_type": "markdown",
   "metadata": {},
   "source": [
    "## Basic concept of $\\lambda$-calculus"
   ]
  },
  {
   "cell_type": "markdown",
   "metadata": {},
   "source": [
    "In a single sentence, $\\lambda$-calculus is purely about operations (or `functions`). Any other concepts are built upon functions, such as `numbers`, `conditional logics`, `bools`. I somehow tasted a flavor of minimalism.\n",
    "\n",
    "The core idea of $\\lambda$-calculus is that by defining several fundamental operations (a.k.a functions) properly, we can pretty much build the whole world upon the fundamental functions. This is exactly the spirit of functional programming, to the extreme extent."
   ]
  },
  {
   "cell_type": "markdown",
   "metadata": {},
   "source": [
    "* __variable__ or __name__: a representation of `function`, or `application`. \n",
    "\n",
    "* __function__: the implementation of `function` using `variable`s.  \n",
    "\n",
    "* __application__: the calling of `function` on some other `variable`s.\n",
    "\n",
    "Please review the [introductory material](http://www.inf.fu-berlin.de/lehre/WS03/alpi/lambda.pdf) to understand the following examples."
   ]
  },
  {
   "cell_type": "markdown",
   "metadata": {},
   "source": [
    "### Some classic examples"
   ]
  },
  {
   "cell_type": "markdown",
   "metadata": {},
   "source": [
    "1. numbers as functions\n",
    "\n",
    "    $$0 \\equiv \\lambda sz.z$$  \n",
    "    $$1 \\equiv \\lambda sz.s(z)$$\n",
    "    \n",
    "2. bools as functions\n",
    "\n",
    "    $$T \\equiv \\lambda xy.x$$  \n",
    "    $$F \\equiv \\lambda xy.y$$\n",
    "    \n",
    "3. conditional logic as functions\n",
    "\n",
    "    $$ifelse \\equiv \\lambda cxy.cxy$$\n",
    "    \n",
    "Looks like magical right? Not until you literally read out their operations and turn them into Python."
   ]
  },
  {
   "cell_type": "markdown",
   "metadata": {},
   "source": [
    "## Python implementation of $\\lambda$-calculus\n",
    "\n",
    "We have to now change our mindsets to discard any unnecessary concepts in python, such as `operators`, `strings`, `bool`, `numbers`, `if`, `while` and etc. The only keyword we can use is basically `lambda`. And this is exactly where the name of `lambda` function comes from."
   ]
  },
  {
   "cell_type": "markdown",
   "metadata": {},
   "source": [
    "### Arithmetic\n",
    "\n",
    "Let's think about Arithmetic, or more basically numbers. How can we define a number as function? \n",
    "\n",
    "Numbers are just symbols, therefore it certainly can be functions. \n",
    "\n",
    "First thing we have to realize is that numbers are not isolated, they are connected with other numbers by operations in order to be meaningful. By applying some operation to a number, one number can become another.\n",
    "\n",
    "Now let's turn this property into the concepts of $\\lambda$-calculus.\n",
    "\n",
    "$number \\equiv function$, number is a function  \n",
    "$function(number) \\equiv number \\equiv function$, some function applying to a number becomes another number, or another function.\n",
    "\n",
    "In other words, the function defines a number should be a __higher-order function__.\n",
    "\n",
    "If we define the rule that a number can be transformed to its successor by a function `s`. Then we can have an iterative function for number $n_i$: $n_i = s(n_{i-1})$, expanding it becomes $n_i = s(s(..(s(n_0))))$, a nth-order function."
   ]
  },
  {
   "cell_type": "markdown",
   "metadata": {},
   "source": [
    "#### numbers"
   ]
  },
  {
   "cell_type": "code",
   "execution_count": 148,
   "metadata": {},
   "outputs": [],
   "source": [
    "# a function representing the fundamental operation: number zero.\n",
    "# The real meaning of this function is it always return the second parameter.\n",
    "zero = lambda s: lambda zero: zero\n",
    "\n",
    "# The real meaning of function one is it applies function s to the second parameter __once__.\n",
    "one = lambda s: lambda zero: s(zero)\n",
    "\n",
    "# The real meaning of function two is it applies function s to the second parameter __twice__.\n",
    "two = lambda s: lambda zero: s(s(zero))\n",
    "\n",
    "three = lambda s: lambda zero: s(s(s(zero)))"
   ]
  },
  {
   "cell_type": "markdown",
   "metadata": {},
   "source": [
    "Now we have these basic rules, let's see what the real meanings of functions `zero`, `one`, `two` are. We will use a function `plus_one` for test purpose, meaning it will add 1 to the input number."
   ]
  },
  {
   "cell_type": "code",
   "execution_count": 16,
   "metadata": {},
   "outputs": [],
   "source": [
    "plus_one = lambda x: x + 1"
   ]
  },
  {
   "cell_type": "markdown",
   "metadata": {},
   "source": [
    "Applying function `zero` to any other functions would result in an identity function $\\lambda x.x$"
   ]
  },
  {
   "cell_type": "code",
   "execution_count": 17,
   "metadata": {},
   "outputs": [
    {
     "data": {
      "text/plain": [
       "(0, 1)"
      ]
     },
     "execution_count": 17,
     "metadata": {},
     "output_type": "execute_result"
    }
   ],
   "source": [
    "identity = zero(plus_one)\n",
    "identity(0), identity(1)"
   ]
  },
  {
   "cell_type": "markdown",
   "metadata": {},
   "source": [
    "Applying function `one` to another function `x` would result in a function that will apply function `x` once to the input."
   ]
  },
  {
   "cell_type": "code",
   "execution_count": 18,
   "metadata": {},
   "outputs": [
    {
     "data": {
      "text/plain": [
       "(1, 2)"
      ]
     },
     "execution_count": 18,
     "metadata": {},
     "output_type": "execute_result"
    }
   ],
   "source": [
    "plus_one_once = one(plus_one)\n",
    "plus_one_once(0), plus_one_once(1)"
   ]
  },
  {
   "cell_type": "markdown",
   "metadata": {},
   "source": [
    "Applying function `two` to another function x would result in a function that will apply function x twice to the input."
   ]
  },
  {
   "cell_type": "code",
   "execution_count": 19,
   "metadata": {},
   "outputs": [
    {
     "data": {
      "text/plain": [
       "(2, 3)"
      ]
     },
     "execution_count": 19,
     "metadata": {},
     "output_type": "execute_result"
    }
   ],
   "source": [
    "plus_one_twice = two(plus_one)\n",
    "plus_one_twice(0), plus_one_twice(1)"
   ]
  },
  {
   "cell_type": "markdown",
   "metadata": {},
   "source": [
    "#### successor"
   ]
  },
  {
   "cell_type": "markdown",
   "metadata": {},
   "source": [
    "`plus_one` in this case also means the `successor` of the current number. The definition does not meet the requirement of $\\lambda$-calculus, because it uses `numbers`. Can we define a $\\lambda$-calculus `plus_one`(a.k.a `successor`) function, so that we can get function `two` from `one` or function `three` from `two`? "
   ]
  },
  {
   "cell_type": "markdown",
   "metadata": {},
   "source": [
    "Let us analyze the role of `successor` in terms of the operation it represents (not in an arithmetic sense). Literally, it means transforming a number function `n` so that `n` applies function `s` one more time than `n` to the second parameter `m`. By this definition, we can define a function as following,"
   ]
  },
  {
   "cell_type": "code",
   "execution_count": 20,
   "metadata": {},
   "outputs": [],
   "source": [
    "successor = lambda n: (lambda s: lambda m: s(n(s)(m)))"
   ]
  },
  {
   "cell_type": "markdown",
   "metadata": {},
   "source": [
    "`n(s)(m)` means applying `s` to `m` for `n` times.  \n",
    "`lambda m: s(n(s)(m)))` means applying `s` one more time to `m`.\n",
    "\n",
    "In $\\lambda$-calculus form,\n",
    "\n",
    "$$ S = \\lambda nsm.s(n(sm))$$"
   ]
  },
  {
   "cell_type": "code",
   "execution_count": 21,
   "metadata": {},
   "outputs": [],
   "source": [
    "new_two = successor(one)"
   ]
  },
  {
   "cell_type": "code",
   "execution_count": 22,
   "metadata": {
    "scrolled": true
   },
   "outputs": [
    {
     "data": {
      "text/plain": [
       "(True, 102)"
      ]
     },
     "execution_count": 22,
     "metadata": {},
     "output_type": "execute_result"
    }
   ],
   "source": [
    "new_plus_one_twice = new_two(plus_one)\n",
    "original_plus_one_twice = two(plus_one)\n",
    "new_plus_one_twice(100) == original_plus_one_twice(100), new_plus_one_twice(100)"
   ]
  },
  {
   "cell_type": "markdown",
   "metadata": {},
   "source": [
    "It can be chained."
   ]
  },
  {
   "cell_type": "code",
   "execution_count": 91,
   "metadata": {},
   "outputs": [
    {
     "data": {
      "text/plain": [
       "103"
      ]
     },
     "execution_count": 91,
     "metadata": {},
     "output_type": "execute_result"
    }
   ],
   "source": [
    "new_three = successor(successor(successor(zero)))\n",
    "new_plus_one_triple_times = new_three(plus_one)\n",
    "new_plus_one_triple_times(100)"
   ]
  },
  {
   "cell_type": "code",
   "execution_count": 92,
   "metadata": {},
   "outputs": [
    {
     "data": {
      "text/plain": [
       "103"
      ]
     },
     "execution_count": 92,
     "metadata": {},
     "output_type": "execute_result"
    }
   ],
   "source": [
    "new_three = successor(two)\n",
    "new_plus_one_triple_times = new_three(plus_one)\n",
    "new_plus_one_triple_times(100)"
   ]
  },
  {
   "cell_type": "markdown",
   "metadata": {},
   "source": [
    "Based on `numbers` and `successor` functions, more complex arithmetic functions such as `add`, `mimus`, `preccessor`, `multiple`, `divide` may be defined."
   ]
  },
  {
   "cell_type": "markdown",
   "metadata": {},
   "source": [
    "#### predecessor\n",
    "\n",
    "The strategy to design a $\\lambda$-calculus function of predecessor for numbers is different from successor, given that we can only use `successor` and `number` functions.\n",
    "\n",
    "Predecessor of `number` function $n = \\lambda sz.s(...s(z))$ may be literally described as,\n",
    "\n",
    "> Transform function `n` so that it applies one less time function `s` to variable `z`.\n",
    "\n",
    "Because we only have access to function `zero`, `n` and `successor` function, this definition can also be described as,\n",
    "\n",
    "> Generate a sequence of number functions from `zero` to `n`, and select the second to the last variable `n-1`.\n",
    "\n",
    "Generating a sequence of number functions may be also described in iterative form with pairs of adjacent number functions $(n, n-1)$. The new iterative function $\\theta$ transforms $(n, n-1)$ to $(n+1, n)$. Iteratively, starting from a pair of $(1, 0) = (successor(0), 0)$. Then the predecessor function may be described as,\n",
    "\n",
    "> Applying function $\\theta$ for `n` times to the initial function $(1, 0)$ to get pair $(n, n-1)$, and then select the second element in the pair."
   ]
  },
  {
   "cell_type": "markdown",
   "metadata": {},
   "source": [
    "##### Pair function\n",
    "\n",
    "Literally, pair function means applying function `z` to two variables `a` and `b`.\n",
    "\n",
    "$$ p = \\lambda z.zab $$\n",
    "\n",
    "In Python, it becomes,"
   ]
  },
  {
   "cell_type": "code",
   "execution_count": 134,
   "metadata": {},
   "outputs": [],
   "source": [
    "pair = lambda a: lambda b: lambda z: z(a)(b)"
   ]
  },
  {
   "cell_type": "code",
   "execution_count": 124,
   "metadata": {},
   "outputs": [
    {
     "data": {
      "text/plain": [
       "(4, 3)"
      ]
     },
     "execution_count": 124,
     "metadata": {},
     "output_type": "execute_result"
    }
   ],
   "source": [
    "# this means applying successor to one (becomes two) and then apply two to plus_one\n",
    "\n",
    "one_and_plus_one_pair = pair(one)(plus_one)\n",
    "zero_and_plus_one_pair = pair(zero)(plus_one)\n",
    "\n",
    "plus_one_twice = one_and_plus_one_pair(successor)\n",
    "plus_one_once = zero_and_plus_one_pair(successor)\n",
    "plus_one_twice(2), plus_one_once(2)"
   ]
  },
  {
   "cell_type": "markdown",
   "metadata": {},
   "source": [
    "##### Selector function\n",
    "\n",
    "Means that the function can select the first or second element in a pair.\n",
    "\n",
    "$$ T = \\lambda xy.x $$\n",
    "\n",
    "$$ F = \\lambda xy.y $$\n",
    "\n",
    "In Python, they become,"
   ]
  },
  {
   "cell_type": "code",
   "execution_count": 125,
   "metadata": {},
   "outputs": [],
   "source": [
    "first = lambda x: lambda y: x\n",
    "second = lambda x: lambda y: y"
   ]
  },
  {
   "cell_type": "code",
   "execution_count": 126,
   "metadata": {},
   "outputs": [
    {
     "data": {
      "text/plain": [
       "(2, 3)"
      ]
     },
     "execution_count": 126,
     "metadata": {},
     "output_type": "execute_result"
    }
   ],
   "source": [
    "plus_one_once = first(one)(two)(plus_one)\n",
    "\n",
    "# or\n",
    "plus_one_twice = second(one)(two)(plus_one)\n",
    "\n",
    "plus_one_once(1), plus_one_twice(1)"
   ]
  },
  {
   "cell_type": "markdown",
   "metadata": {},
   "source": [
    "Combining selector and pair function, we can have functions to extract the first or second element in a pair."
   ]
  },
  {
   "cell_type": "code",
   "execution_count": 127,
   "metadata": {},
   "outputs": [
    {
     "data": {
      "text/plain": [
       "(2, 3)"
      ]
     },
     "execution_count": 127,
     "metadata": {},
     "output_type": "execute_result"
    }
   ],
   "source": [
    "one_two_pair = pair(one)(two)\n",
    "new_one = one_two_pair(first)\n",
    "new_two = one_two_pair(second)\n",
    "plus_one_once = new_one(plus_one)\n",
    "plus_one_twice = new_two(plus_one)\n",
    "\n",
    "plus_one_once(1), plus_one_twice(1)"
   ]
  },
  {
   "cell_type": "markdown",
   "metadata": {},
   "source": [
    "##### $\\theta$ function\n",
    "\n",
    "$\\theta$ function transforms a pair to a new pair where the first element is the successor of the first element of the original pair, and second pair is the first element of the original pair.\n",
    "\n",
    "$$ \\theta = \\lambda pz.z(S(pT))(pT) $$\n",
    "\n",
    "The result function would also be a pair function.\n",
    "\n",
    "In Python,"
   ]
  },
  {
   "cell_type": "code",
   "execution_count": 140,
   "metadata": {},
   "outputs": [],
   "source": [
    "theta = lambda p: lambda z: pair(successor(p(first)))(p(first))(z)"
   ]
  },
  {
   "cell_type": "code",
   "execution_count": 143,
   "metadata": {},
   "outputs": [
    {
     "data": {
      "text/plain": [
       "(3, 2)"
      ]
     },
     "execution_count": 143,
     "metadata": {},
     "output_type": "execute_result"
    }
   ],
   "source": [
    "successor_of_first_and_original_first_pair = theta(pair(zero)(zero))\n",
    "new_one = successor_of_first_and_original_first_pair(first)\n",
    "new_zero = successor_of_first_and_original_first_pair(second)\n",
    "new_one(plus_one)(2), new_zero(plus_one)(2)"
   ]
  },
  {
   "cell_type": "markdown",
   "metadata": {},
   "source": [
    "##### Predecessor\n",
    "\n",
    "Now we have all building blocks `theta`, `pair`, `first` and `second` functions. We may define the predecessor function as following,\n",
    "\n",
    "$$ P = \\lambda n.n\\theta(p00)F $$\n",
    "\n",
    "Or in Python as,"
   ]
  },
  {
   "cell_type": "code",
   "execution_count": 144,
   "metadata": {},
   "outputs": [],
   "source": [
    "predecessor = lambda n: n(theta)(pair(zero)(zero))(second)"
   ]
  },
  {
   "cell_type": "code",
   "execution_count": 149,
   "metadata": {},
   "outputs": [
    {
     "data": {
      "text/plain": [
       "(1, 1, 2, 3)"
      ]
     },
     "execution_count": 149,
     "metadata": {},
     "output_type": "execute_result"
    }
   ],
   "source": [
    "new_zero = predecessor(zero)\n",
    "new_zero_from_one = predecessor(one)\n",
    "new_one = predecessor(two)\n",
    "new_two = predecessor(three)\n",
    "\n",
    "new_zero(plus_one)(1), new_zero_from_one(plus_one)(1), new_one(plus_one)(1), new_two(plus_one)(1)"
   ]
  }
 ],
 "metadata": {
  "kernelspec": {
   "display_name": "Python 3",
   "language": "python",
   "name": "python3"
  },
  "language_info": {
   "codemirror_mode": {
    "name": "ipython",
    "version": 3
   },
   "file_extension": ".py",
   "mimetype": "text/x-python",
   "name": "python",
   "nbconvert_exporter": "python",
   "pygments_lexer": "ipython3",
   "version": "3.7.3"
  }
 },
 "nbformat": 4,
 "nbformat_minor": 2
}
