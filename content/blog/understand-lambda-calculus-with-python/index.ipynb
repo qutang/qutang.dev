{
 "cells": [
  {
   "cell_type": "markdown",
   "metadata": {},
   "source": [
    "$\\lambda$-calculus is known as the world's tiniest universal programming language that adopts the functional programming paradigm.\n",
    "\n",
    "When I first learned its concepts, I was frustrated a lot about its confusing formation and variable substitutions. And I felt it was hard to understand _intuitively_ the fundamental functions defined in the language.\n",
    "\n",
    "After some effort, I realized this language shared the same spirit with many other languages (in fact, this one is the foundation) that support functional programming paradigm, such as Python. It took only a subset concepts from the more complete languages, yet ensured the language was still Turing complete.\n",
    "\n",
    "Let's quickly review the basic concepts of $\\lambda$-calculus."
   ]
  },
  {
   "cell_type": "markdown",
   "metadata": {},
   "source": [
    "## Basic concept of $\\lambda$-calculus"
   ]
  },
  {
   "cell_type": "markdown",
   "metadata": {},
   "source": [
    "In a single sentence, $\\lambda$-calculus is purely about operations (or `functions`). Any other concepts are built upon functions, such as `numbers`, `conditional logics`, `bools`. I somehow tasted a flavor of minimalism.\n",
    "\n",
    "The core idea of $\\lambda$-calculus is that by defining several fundamental operations (a.k.a functions) properly, we can pretty much build the whole world upon the fundamental functions. This is exactly the spirit of functional programming, to the extreme extent."
   ]
  },
  {
   "cell_type": "markdown",
   "metadata": {},
   "source": [
    "* __variable__ or __name__: a representation of `function`, or `application`. \n",
    "\n",
    "* __function__: the implementation of `function` using `variable`s.  \n",
    "\n",
    "* __application__: the calling of `function` on some other `variable`s.\n",
    "\n",
    "Please review the [introductory material](http://www.inf.fu-berlin.de/lehre/WS03/alpi/lambda.pdf) to understand the following examples."
   ]
  },
  {
   "cell_type": "markdown",
   "metadata": {},
   "source": [
    "### Some classic examples"
   ]
  },
  {
   "cell_type": "markdown",
   "metadata": {},
   "source": [
    "1. numbers as functions\n",
    "\n",
    "    $0 \\equiv \\lambda sz.z$  \n",
    "    $1 \\equiv \\lambda sz.s(z)$\n",
    "    \n",
    "2. bools as functions\n",
    "\n",
    "    $T \\equiv \\lambda xy.x$  \n",
    "    $F \\equiv \\lambda xy.y$\n",
    "    \n",
    "3. conditional logic as functions\n",
    "\n",
    "    $ifelse \\equiv \\lambda cxy.cxy$\n",
    "    \n",
    "Looks like magical right? Not until you literally read out their operations and turn them into Python."
   ]
  },
  {
   "cell_type": "markdown",
   "metadata": {},
   "source": [
    "## Python implementation of $\\lambda$-calculus\n",
    "\n",
    "We have to now change our mindsets to discard any unnecessary concepts in python, such as `operators`, `strings`, `bool`, `numbers`, `if`, `while` and etc. The only keyword we can use is basically `lambda`. And this is exactly where the name of `lambda` function comes from."
   ]
  },
  {
   "cell_type": "markdown",
   "metadata": {},
   "source": [
    "### Arithmetic\n",
    "\n",
    "Let's think about Arithmetic, or more basically numbers. How can we define a number as function? \n",
    "\n",
    "Numbers are just symbols, therefore it certainly can be functions. \n",
    "\n",
    "First thing we have to realize is that numbers are not isolated, they are connected with other numbers by operations in order to be meaningful. By applying some operation to a number, one number can become another.\n",
    "\n",
    "Now let's turn this property into the concepts of $\\lambda$-calculus.\n",
    "\n",
    "$number \\equiv function$, number is a function  \n",
    "$function(number) \\equiv number \\equiv function$, some function applying to a number becomes another number, or another function.\n",
    "\n",
    "In other words, the function defines a number should be a __higher-order function__.\n",
    "\n",
    "If we define the rule that a number can be transformed to its successor by a function `s`. Then we can have an iterative function for number $n_i$: $n_i = s(n_{i-1})$, expanding it becomes $n_i = s(s(..(s(n_0))))$, a nth-order function."
   ]
  },
  {
   "cell_type": "markdown",
   "metadata": {},
   "source": [
    "#### numbers"
   ]
  },
  {
   "cell_type": "code",
   "execution_count": 102,
   "metadata": {},
   "outputs": [],
   "source": [
    "# a function representing the fundamental operation: number zero.\n",
    "# The real meaning of this function is it always return the second parameter.\n",
    "zero = lambda s: lambda zero: zero\n",
    "\n",
    "# The real meaning of function one is it applies function s to the second parameter __once__.\n",
    "one = lambda s: lambda zero: s(zero)\n",
    "\n",
    "# The real meaning of function two is it applies function s to the second parameter __twice__.\n",
    "two = lambda s: lambda zero: s(s(zero))"
   ]
  },
  {
   "cell_type": "markdown",
   "metadata": {},
   "source": [
    "Now we have these basic rules, let's see what the real meanings of functions `zero`, `one`, `two` are. We will use a function `plus_one` for test purpose, meaning it will add 1 to the input number."
   ]
  },
  {
   "cell_type": "code",
   "execution_count": 103,
   "metadata": {},
   "outputs": [],
   "source": [
    "plus_one = lambda x: x + 1"
   ]
  },
  {
   "cell_type": "markdown",
   "metadata": {},
   "source": [
    "Applying function `zero` to any other functions would result in an identity function $\\lambda x.x$"
   ]
  },
  {
   "cell_type": "code",
   "execution_count": 104,
   "metadata": {},
   "outputs": [
    {
     "data": {
      "text/plain": [
       "(0, 1)"
      ]
     },
     "execution_count": 104,
     "metadata": {},
     "output_type": "execute_result"
    }
   ],
   "source": [
    "identity = zero(plus_one)\n",
    "identity(0), identity(1)"
   ]
  },
  {
   "cell_type": "markdown",
   "metadata": {},
   "source": [
    "Applying function `one` to another function `x` would result in a function that will apply function `x` once to the input."
   ]
  },
  {
   "cell_type": "code",
   "execution_count": 105,
   "metadata": {},
   "outputs": [
    {
     "data": {
      "text/plain": [
       "(1, 2)"
      ]
     },
     "execution_count": 105,
     "metadata": {},
     "output_type": "execute_result"
    }
   ],
   "source": [
    "plus_one_once = one(plus_one)\n",
    "plus_one_once(0), plus_one_once(1)"
   ]
  },
  {
   "cell_type": "markdown",
   "metadata": {},
   "source": [
    "Applying function `two` to another function x would result in a function that will apply function x twice to the input."
   ]
  },
  {
   "cell_type": "code",
   "execution_count": 106,
   "metadata": {},
   "outputs": [
    {
     "data": {
      "text/plain": [
       "(2, 3)"
      ]
     },
     "execution_count": 106,
     "metadata": {},
     "output_type": "execute_result"
    }
   ],
   "source": [
    "plus_one_twice = two(plus_one)\n",
    "plus_one_twice(0), plus_one_twice(1)"
   ]
  },
  {
   "cell_type": "markdown",
   "metadata": {},
   "source": [
    "#### successor"
   ]
  },
  {
   "cell_type": "markdown",
   "metadata": {},
   "source": [
    "`plus_one` in this case also means the `successor` of the current number. The definition does not meet the requirement of $\\lambda$-calculus, because it uses `numbers`. Can we define a $\\lambda$-calculus `plus_one`(a.k.a `successor`) function, so that we can get function `two` from `one` or function `three` from `two`? "
   ]
  },
  {
   "cell_type": "markdown",
   "metadata": {},
   "source": [
    "Let us analyze the role of `successor` in terms of the operation it represents (not in an arithmetic sense). Literally, it means transforming a number function `n` so that `n` applies function `s` one more time than `n` to the second parameter `m`. By this definition, we can define a function as following,"
   ]
  },
  {
   "cell_type": "code",
   "execution_count": 107,
   "metadata": {},
   "outputs": [],
   "source": [
    "successor = lambda n: (lambda s: lambda m: s(n(s)(m)))"
   ]
  },
  {
   "cell_type": "markdown",
   "metadata": {},
   "source": [
    "`n(s)(m)` means applying `s` to `m` for `n` times.  \n",
    "`lambda m: s(n(s)(m)))` means applying `s` one more time to `m`.\n",
    "\n",
    "In $\\lambda$-calculus form,\n",
    "\n",
    "$$ successor = \\lambda nsm.s(n(sm))$$"
   ]
  },
  {
   "cell_type": "code",
   "execution_count": 108,
   "metadata": {},
   "outputs": [],
   "source": [
    "new_two = successor(one)"
   ]
  },
  {
   "cell_type": "code",
   "execution_count": 109,
   "metadata": {
    "scrolled": true
   },
   "outputs": [
    {
     "data": {
      "text/plain": [
       "(True, 102)"
      ]
     },
     "execution_count": 109,
     "metadata": {},
     "output_type": "execute_result"
    }
   ],
   "source": [
    "new_plus_one_twice = new_two(plus_one)\n",
    "original_plus_one_twice = two(plus_one)\n",
    "new_plus_one_twice(100) == original_plus_one_twice(100), new_plus_one_twice(100)"
   ]
  },
  {
   "cell_type": "markdown",
   "metadata": {},
   "source": [
    "It can be chained."
   ]
  },
  {
   "cell_type": "code",
   "execution_count": 110,
   "metadata": {},
   "outputs": [
    {
     "data": {
      "text/plain": [
       "103"
      ]
     },
     "execution_count": 110,
     "metadata": {},
     "output_type": "execute_result"
    }
   ],
   "source": [
    "new_three = successor(successor(successor(zero)))\n",
    "new_plus_one_triple_times = new_three(plus_one)\n",
    "new_plus_one_triple_times(100)"
   ]
  },
  {
   "cell_type": "markdown",
   "metadata": {},
   "source": [
    "Based on `numbers` and `successor` functions, more complex arithmetic functions such as `add`, `mimus`, `preccessor`, `multiple`, `divide` may be defined."
   ]
  },
  {
   "cell_type": "markdown",
   "metadata": {},
   "source": [
    "To be continued..."
   ]
  }
 ],
 "metadata": {
  "kernelspec": {
   "display_name": "Python 3",
   "language": "python",
   "name": "python3"
  },
  "language_info": {
   "codemirror_mode": {
    "name": "ipython",
    "version": 3
   },
   "file_extension": ".py",
   "mimetype": "text/x-python",
   "name": "python",
   "nbconvert_exporter": "python",
   "pygments_lexer": "ipython3",
   "version": "3.6.5"
  }
 },
 "nbformat": 4,
 "nbformat_minor": 2
}
